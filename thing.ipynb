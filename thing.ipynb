{
 "cells": [
  {
   "cell_type": "code",
   "execution_count": 2,
   "metadata": {},
   "outputs": [],
   "source": [
    "import pandas as pd\n",
    "import numpy as np"
   ]
  },
  {
   "cell_type": "code",
   "execution_count": 4,
   "metadata": {},
   "outputs": [
    {
     "name": "stdout",
     "output_type": "stream",
     "text": [
      "https://data.typeracer.com/pit/latest\n"
     ]
    },
    {
     "ename": "TypeError",
     "evalue": "slice indices must be integers or None or have an __index__ method",
     "output_type": "error",
     "traceback": [
      "\u001b[1;31m---------------------------------------------------------------------------\u001b[0m",
      "\u001b[1;31mTypeError\u001b[0m                                 Traceback (most recent call last)",
      "Cell \u001b[1;32mIn [4], line 2\u001b[0m\n\u001b[0;32m      1\u001b[0m \u001b[39mimport\u001b[39;00m \u001b[39mscraper\u001b[39;00m\n\u001b[1;32m----> 2\u001b[0m df \u001b[39m=\u001b[39m scraper\u001b[39m.\u001b[39mfetch_matches(\u001b[39m2\u001b[39m,\u001b[39m3\u001b[39m)\n",
      "File \u001b[1;32mc:\\Users\\Tomas\\Desktop\\typeracer_dataset\\scraper.py:71\u001b[0m, in \u001b[0;36mfetch_matches\u001b[1;34m(players, matches_per_player)\u001b[0m\n\u001b[0;32m     69\u001b[0m count_all \u001b[39m=\u001b[39m \u001b[39m0\u001b[39m\n\u001b[0;32m     70\u001b[0m player_accessed \u001b[39m=\u001b[39m \u001b[39mset\u001b[39m()  \u001b[39m#load each player only once in this function call; saves bunch of requests\u001b[39;00m\n\u001b[1;32m---> 71\u001b[0m \u001b[39mfor\u001b[39;00m p \u001b[39min\u001b[39;00m players[:players]:\n\u001b[0;32m     72\u001b[0m     \u001b[39mprint\u001b[39m(\u001b[39mf\u001b[39m\u001b[39m'\u001b[39m\u001b[39mdupes: \u001b[39m\u001b[39m{\u001b[39;00mduplicates\u001b[39m}\u001b[39;00m\u001b[39m, all: \u001b[39m\u001b[39m{\u001b[39;00mcount_all\u001b[39m}\u001b[39;00m\u001b[39m, rate:\u001b[39m\u001b[39m{\u001b[39;00mduplicates\u001b[39m/\u001b[39mcount_all \u001b[39mif\u001b[39;00m count_all\u001b[39m!=\u001b[39m\u001b[39m0\u001b[39m \u001b[39melse\u001b[39;00m \u001b[39m0\u001b[39m\u001b[39m}\u001b[39;00m\u001b[39m'\u001b[39m)\n\u001b[0;32m     73\u001b[0m     href \u001b[39m=\u001b[39m p[\u001b[39m'\u001b[39m\u001b[39mhref\u001b[39m\u001b[39m'\u001b[39m]\n",
      "\u001b[1;31mTypeError\u001b[0m: slice indices must be integers or None or have an __index__ method"
     ]
    }
   ],
   "source": [
    "import scraper\n",
    "df = scraper.fetch_matches(2,3)"
   ]
  },
  {
   "cell_type": "code",
   "execution_count": 1,
   "metadata": {},
   "outputs": [
    {
     "ename": "SyntaxError",
     "evalue": "cannot assign to function call (698159962.py, line 1)",
     "output_type": "error",
     "traceback": [
      "\u001b[1;36m  Cell \u001b[1;32mIn [1], line 1\u001b[1;36m\u001b[0m\n\u001b[1;33m    df['mistake_letters'] = df.apply(lambda row: row['letters'][row['mistakes']]), axis=1)\u001b[0m\n\u001b[1;37m                            ^\u001b[0m\n\u001b[1;31mSyntaxError\u001b[0m\u001b[1;31m:\u001b[0m cannot assign to function call\n"
     ]
    }
   ],
   "source": [
    "df['mistake_letters'] = df.apply(lambda row: row['letters'][row['mistakes']]), axis=1)\n",
    "df['mistake_latencies'] = df.apply(lambda row: row['letters'][row['mistakes']]), axis=1)"
   ]
  }
 ],
 "metadata": {
  "kernelspec": {
   "display_name": "Python 3.9.10 64-bit",
   "language": "python",
   "name": "python3"
  },
  "language_info": {
   "codemirror_mode": {
    "name": "ipython",
    "version": 3
   },
   "file_extension": ".py",
   "mimetype": "text/x-python",
   "name": "python",
   "nbconvert_exporter": "python",
   "pygments_lexer": "ipython3",
   "version": "3.9.10"
  },
  "orig_nbformat": 4,
  "vscode": {
   "interpreter": {
    "hash": "11938c6bc6919ae2720b4d5011047913343b08a43b18698fd82dedb0d4417594"
   }
  }
 },
 "nbformat": 4,
 "nbformat_minor": 2
}
